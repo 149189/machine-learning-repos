{
  "cells": [
    {
      "cell_type": "markdown",
      "metadata": {
        "id": "sFdNaOnlLH37"
      },
      "source": [
        "Importing Libraries"
      ]
    },
    {
      "cell_type": "code",
      "execution_count": 38,
      "metadata": {
        "id": "dnJTT32pJ_Cc"
      },
      "outputs": [],
      "source": [
        "import numpy as np\n",
        "import pandas as pd\n",
        "from sklearn.model_selection import train_test_split\n",
        "from sklearn.preprocessing import StandardScaler\n",
        "from sklearn.impute import SimpleImputer"
      ]
    },
    {
      "cell_type": "markdown",
      "source": [],
      "metadata": {
        "id": "OJFwMnnH8YLv"
      }
    },
    {
      "cell_type": "markdown",
      "metadata": {
        "id": "FL_fl4ISLH39"
      },
      "source": [
        "Arranging dataset"
      ]
    },
    {
      "cell_type": "code",
      "execution_count": 39,
      "metadata": {
        "id": "mrMi5IdxKPwf"
      },
      "outputs": [],
      "source": [
        "dataset = pd.read_csv('/content/winequality-red.csv')\n",
        "\n",
        "# Now you can work with the data in your Jupyter Notebook\n",
        "X = dataset.iloc[:, :-1].values\n",
        "y = dataset.iloc[:, -1].values"
      ]
    },
    {
      "cell_type": "code",
      "source": [
        "print(f\"NaNs in original X: {np.isnan(X).sum()}\")"
      ],
      "metadata": {
        "colab": {
          "base_uri": "https://localhost:8080/"
        },
        "id": "JDWQsFZM9QFR",
        "outputId": "c79ba325-cc11-4c88-e30d-43d069200447"
      },
      "execution_count": 40,
      "outputs": [
        {
          "output_type": "stream",
          "name": "stdout",
          "text": [
            "NaNs in original X: 3\n"
          ]
        }
      ]
    },
    {
      "cell_type": "markdown",
      "metadata": {
        "id": "nNIfUR6_LH39"
      },
      "source": [
        "Handelling NaN values"
      ]
    },
    {
      "cell_type": "code",
      "execution_count": 41,
      "metadata": {
        "id": "OZjqCBZsLH39"
      },
      "outputs": [],
      "source": [
        "imputer = SimpleImputer(missing_values=np.nan, strategy='mean')\n",
        "X = imputer.fit_transform(X)"
      ]
    },
    {
      "cell_type": "code",
      "source": [
        "print(f\"NaNs in X after imputation: {np.isnan(X).sum()}\")"
      ],
      "metadata": {
        "colab": {
          "base_uri": "https://localhost:8080/"
        },
        "id": "FWI_TZ2A9V65",
        "outputId": "0df74418-be0b-4a73-8fef-ca02c7d7159a"
      },
      "execution_count": 42,
      "outputs": [
        {
          "output_type": "stream",
          "name": "stdout",
          "text": [
            "NaNs in X after imputation: 0\n"
          ]
        }
      ]
    },
    {
      "cell_type": "code",
      "execution_count": 43,
      "metadata": {
        "colab": {
          "base_uri": "https://localhost:8080/"
        },
        "id": "mjuVbqrbLH39",
        "outputId": "f18287de-106a-40bd-9e70-5d2ddd439a7e"
      },
      "outputs": [
        {
          "output_type": "stream",
          "name": "stdout",
          "text": [
            "[[ 7.4    0.7    0.    ...  3.51   0.56   9.4  ]\n",
            " [ 7.8    0.88   0.    ...  3.2    0.68   9.8  ]\n",
            " [ 7.8    0.76   0.04  ...  3.26   0.65   9.8  ]\n",
            " ...\n",
            " [ 6.3    0.51   0.13  ...  3.42   0.75  11.   ]\n",
            " [ 5.9    0.645  0.12  ...  3.57   0.71  10.2  ]\n",
            " [ 6.     0.31   0.47  ...  3.39   0.66  11.   ]]\n"
          ]
        }
      ],
      "source": [
        "print(X)"
      ]
    },
    {
      "cell_type": "markdown",
      "metadata": {
        "id": "dy50yl4cLH39"
      },
      "source": [
        "Training Data"
      ]
    },
    {
      "cell_type": "code",
      "execution_count": 44,
      "metadata": {
        "id": "IPiXPURzKPpJ"
      },
      "outputs": [],
      "source": [
        "X_train,X_test,y_train,y_test=train_test_split(X,y,test_size=0.2,random_state=42)"
      ]
    },
    {
      "cell_type": "code",
      "source": [
        "print(f\"NaNs in X_train after splitting: {np.isnan(X_train).sum()}\")\n",
        "print(f\"NaNs in X_test after splitting: {np.isnan(X_test).sum()}\")"
      ],
      "metadata": {
        "colab": {
          "base_uri": "https://localhost:8080/"
        },
        "id": "hsxeRtQ_9bap",
        "outputId": "f5267a5b-2695-4b26-8de1-9d8b2ea7a682"
      },
      "execution_count": 45,
      "outputs": [
        {
          "output_type": "stream",
          "name": "stdout",
          "text": [
            "NaNs in X_train after splitting: 0\n",
            "NaNs in X_test after splitting: 0\n"
          ]
        }
      ]
    },
    {
      "cell_type": "code",
      "source": [
        "nan_indices = np.argwhere(np.isnan(X_train))\n",
        "print(f\"Indices of NaNs in X_train: {nan_indices}\")\n"
      ],
      "metadata": {
        "colab": {
          "base_uri": "https://localhost:8080/"
        },
        "id": "oBP23IN29wRX",
        "outputId": "7066da9d-68d3-4cc3-984b-db794719434b"
      },
      "execution_count": 46,
      "outputs": [
        {
          "output_type": "stream",
          "name": "stdout",
          "text": [
            "Indices of NaNs in X_train: []\n"
          ]
        }
      ]
    },
    {
      "cell_type": "code",
      "source": [
        "if np.isnan(X_train).sum() > 0:\n",
        "    X_train = imputer.fit_transform(X_train)"
      ],
      "metadata": {
        "id": "FtsBIloM-EIV"
      },
      "execution_count": 47,
      "outputs": []
    },
    {
      "cell_type": "code",
      "source": [
        "print(f\"NaNs in X_train after reapplying imputer: {np.isnan(X_train).sum()}\")"
      ],
      "metadata": {
        "colab": {
          "base_uri": "https://localhost:8080/"
        },
        "id": "W_Ft7yQT-HBL",
        "outputId": "3b68bdf4-44a9-4343-86e1-d7d4cd451c8d"
      },
      "execution_count": 48,
      "outputs": [
        {
          "output_type": "stream",
          "name": "stdout",
          "text": [
            "NaNs in X_train after reapplying imputer: 0\n"
          ]
        }
      ]
    },
    {
      "cell_type": "code",
      "execution_count": 49,
      "metadata": {
        "id": "rU0wc3VhKPgE"
      },
      "outputs": [],
      "source": [
        "\n",
        "sc = StandardScaler()\n",
        "X_train = sc.fit_transform(X_train)\n",
        "X_test = sc.transform(X_test)"
      ]
    },
    {
      "cell_type": "code",
      "source": [
        "print(f\"NaNs in X_train: {np.isnan(X_train).sum()}\")\n",
        "print(f\"NaNs in X_test: {np.isnan(X_test).sum()}\")\n"
      ],
      "metadata": {
        "colab": {
          "base_uri": "https://localhost:8080/"
        },
        "id": "L9GHVGHv9B1i",
        "outputId": "e1487428-5d41-4c6d-be70-9f89ba2f512d"
      },
      "execution_count": 50,
      "outputs": [
        {
          "output_type": "stream",
          "name": "stdout",
          "text": [
            "NaNs in X_train: 0\n",
            "NaNs in X_test: 0\n"
          ]
        }
      ]
    },
    {
      "cell_type": "code",
      "execution_count": 51,
      "metadata": {
        "id": "3aCUqrx7KPVN",
        "colab": {
          "base_uri": "https://localhost:8080/"
        },
        "outputId": "d668ab5b-52c6-4ae9-e836-ad59599ba292"
      },
      "outputs": [
        {
          "output_type": "stream",
          "name": "stdout",
          "text": [
            "[[ 0.21833164  0.88971201  0.19115195 ...  1.09349989  0.45822284\n",
            "   1.12317723]\n",
            " [-1.29016623 -1.78878251  0.65216404 ... -0.40043872 -0.40119696\n",
            "   1.40827174]\n",
            " [ 1.49475291 -0.78434707  1.010729   ... -0.07566946  0.51551749\n",
            "  -0.58738978]\n",
            " ...\n",
            " [-0.65195559  0.49909822 -1.08943719 ...  1.28836145 -0.68767023\n",
            "  -0.87248428]\n",
            " [-0.24582155 -1.84458448  0.39604621 ...  0.05423824  0.80199076\n",
            "   1.40827174]\n",
            " [-1.46422367 -1.34236676 -0.06496588 ...  0.50891521 -0.68767023\n",
            "   2.92877575]]\n",
            "[[-3.61859850e-01  1.64286407e-01 -9.86990061e-01 ... -4.65392578e-01\n",
            "  -1.34389336e-04 -7.77452782e-01]\n",
            " [-3.03840702e-01 -1.70525408e-01 -5.25977970e-01 ...  5.08915214e-01\n",
            "  -1.03143815e+00 -8.72484283e-01]\n",
            " [ 1.37871461e+00  7.78108067e-01 -2.69860142e-01 ... -2.05577167e-01\n",
            "   1.83329452e+00 -4.92358280e-01]\n",
            " ...\n",
            " [-1.37449586e-02  3.87494284e-01 -1.16189445e-01 ... -1.04997725e+00\n",
            "  -7.44964886e-01 -5.87389780e-01]\n",
            " [ 2.76350785e-01 -1.45397070e+00  6.00940475e-01 ... -1.04997725e+00\n",
            "   1.71749571e-01  7.43051230e-01]\n",
            " [ 4.50408230e-01  1.30822677e+00 -1.19188432e+00 ... -1.40623314e-01\n",
            "  -6.87670232e-01 -6.82421281e-01]]\n"
          ]
        }
      ],
      "source": [
        "print(X_train)\n",
        "print(X_test)"
      ]
    },
    {
      "cell_type": "markdown",
      "source": [
        "Support Vector Regression"
      ],
      "metadata": {
        "id": "KS5ru6dDNqSb"
      }
    },
    {
      "cell_type": "code",
      "source": [
        "from sklearn.svm import SVR\n",
        "\n",
        "# Instantiate the model\n",
        "model = SVR()\n",
        "\n",
        "# Train the model on the training data\n",
        "model.fit(X_train, y_train)\n",
        "\n",
        "# Make predictions on the test data\n",
        "svr_predictions = model.predict(X_test)\n",
        "print(svr_predictions)\n"
      ],
      "metadata": {
        "colab": {
          "base_uri": "https://localhost:8080/"
        },
        "id": "zXTbr5-aNf7a",
        "outputId": "7a066e06-2931-4f6a-80f0-708728959f78"
      },
      "execution_count": 61,
      "outputs": [
        {
          "output_type": "stream",
          "name": "stdout",
          "text": [
            "[5.43705847 5.09148742 5.59937275 5.32894194 5.7111594  5.15272993\n",
            " 4.93848231 4.93836407 5.80724797 5.6637205  6.49443236 5.1035639\n",
            " 5.66129372 5.11417861 5.38743009 6.53168545 5.2107995  5.46959857\n",
            " 6.9920408  4.95569581 4.90011315 5.21717149 5.58281908 6.22562883\n",
            " 5.40091092 5.72698533 6.08390283 5.21529947 4.95538502 6.08258326\n",
            " 5.16141866 5.11152938 5.88867122 4.94250818 5.71965431 5.00520348\n",
            " 6.3859316  5.80016687 5.65106855 6.1003401  5.72664412 5.21729328\n",
            " 6.26635425 5.08342857 6.08929805 5.94617248 6.59472646 5.76041143\n",
            " 5.10039627 5.57077941 4.88326651 5.047233   5.80296272 6.98417955\n",
            " 4.95348197 5.11885306 6.16002544 5.49345018 5.87323623 5.09984194\n",
            " 5.66125572 6.00159426 5.13910465 5.10356606 6.446385   5.13775323\n",
            " 6.57026653 5.44096341 6.59166738 5.29517461 6.10962606 5.08851941\n",
            " 5.83154041 5.75761212 6.18711978 5.10039167 6.53652853 5.37985851\n",
            " 5.98831474 6.63726077 5.10004449 6.68848594 5.26265515 5.28943779\n",
            " 6.1104571  6.29232957 5.09977253 6.05604122 6.57497721 4.99100223\n",
            " 6.17488955 5.22857466 5.09975741 5.42922575 5.32871834 5.68178131\n",
            " 5.10316559 5.58725403 5.20696276 5.60844415 5.01820775 5.04317061\n",
            " 5.84255282 5.84861764 5.51123861 6.15214971 6.07799071 5.26961121\n",
            " 5.62280131 5.13688073 6.3059902  5.03226118 6.09818014 4.88817889\n",
            " 5.42065465 6.31454554 6.16171521 5.31684441 4.88175571 6.00466668\n",
            " 6.23477944 5.60353954 5.89622048 5.01429276 5.30966548 5.14993724\n",
            " 6.20152782 5.56162622 5.09985744 5.87381627 5.83154041 5.14172405\n",
            " 5.05948108 6.42824286 5.57077941 4.8728535  4.90024192 5.21306496\n",
            " 4.93546266 5.92915131 6.38477484 6.35039885 6.46383924 5.2408005\n",
            " 6.0943858  5.14785766 6.03508592 5.41357913 5.64056992 5.07003375\n",
            " 5.76977235 6.14610224 5.15977694 5.82324667 5.83154041 6.22250251\n",
            " 5.22615298 5.92114454 5.28563196 5.9162175  6.51247506 5.81276383\n",
            " 6.3127619  4.96958224 5.23133934 5.6014886  5.04448798 4.96977577\n",
            " 4.87258139 5.04482201 5.06978459 4.75450649 6.4623353  5.25524625\n",
            " 6.39824826 5.91235427 5.95338725 5.10059374 5.16943524 5.21401548\n",
            " 4.85066511 6.53941825 5.40373458 6.73980408 4.8583086  6.3430775\n",
            " 5.53896471 6.00760925 6.89364886 5.25524625 5.57418016 6.03348174\n",
            " 5.47393957 6.45640586 5.64866571 5.10043892 4.81643853 5.40793083\n",
            " 5.6331004  6.15214971 5.30841281 4.98008603 5.20201066 5.03681948\n",
            " 6.6343712  5.66950992 5.00768637 5.33770837 5.78839333 5.89343394\n",
            " 6.77777568 4.92562001 5.67203233 6.00093167 6.28629259 5.89784786\n",
            " 5.89987391 4.97835732 5.81097448 5.48410878 5.15330702 6.10000342\n",
            " 6.21998405 5.97392053 5.43922671 4.88586511 5.05600992 6.74989708\n",
            " 5.19741519 5.21985154 5.24282631 4.91049712 6.56409655 5.9998989\n",
            " 5.10957939 6.15214971 5.15726104 6.1104571  5.89961942 5.05736424\n",
            " 5.54664494 4.94626967 5.85594098 6.01614823 5.31333254 6.00883116\n",
            " 5.53661221 5.19226309 6.74079813 5.08799461 5.79588214 5.32193073\n",
            " 5.47665225 5.47868511 5.19306887 5.32389706 5.17359453 5.69781486\n",
            " 5.77727851 6.09886254 6.3010073  5.86695763 5.10059374 6.88899224\n",
            " 5.98900036 6.59171364 5.46762486 5.17469157 5.97552018 6.46553084\n",
            " 4.93735363 5.50102629 5.4619501  5.10589659 5.46246685 5.04874412\n",
            " 5.58737264 5.94201671 6.24680576 5.39304978 6.92332206 5.33921339\n",
            " 5.48399861 5.57586058 5.3842368  6.03410682 5.05751349 6.35039885\n",
            " 4.87677903 5.90194575 5.48269704 6.60102992 6.25853804 5.40887747\n",
            " 5.01785321 6.26426963 5.1420475  6.4671916  6.29357245 6.62155416\n",
            " 5.25168305 5.00332637 6.53994863 5.10544309 5.26295673 5.15805207\n",
            " 5.83893647 6.0465216  5.79260039 6.75145994 5.59710781 5.40380286\n",
            " 5.56385819 5.82624227 4.94250818 6.0999386  5.09967915 5.13697496\n",
            " 6.44664424 5.1742908 ]\n"
          ]
        }
      ]
    },
    {
      "cell_type": "code",
      "source": [
        "from sklearn.metrics import mean_absolute_error, mean_squared_error, r2_score\n",
        "mae = mean_absolute_error(y_test, svr_predictions)\n",
        "mse = mean_squared_error(y_test, svr_predictions)\n",
        "r2 = r2_score(y_test, svr_predictions)\n",
        "\n",
        "print(f\"Mean Absolute Error (MAE): {mae}\")\n",
        "print(f\"Mean Squared Error (MSE): {mse}\")\n",
        "print(f\"R-squared (R²): {r2}\")"
      ],
      "metadata": {
        "colab": {
          "base_uri": "https://localhost:8080/"
        },
        "id": "wxC6Vm8i-fLV",
        "outputId": "c72776d8-9f78-46fd-bde5-a7e7b8a8c805"
      },
      "execution_count": 62,
      "outputs": [
        {
          "output_type": "stream",
          "name": "stdout",
          "text": [
            "Mean Absolute Error (MAE): 0.4535910872530087\n",
            "Mean Squared Error (MSE): 0.35172233375700596\n",
            "R-squared (R²): 0.46179161408990865\n"
          ]
        }
      ]
    },
    {
      "cell_type": "markdown",
      "source": [
        "Gradient Boosting Regressor"
      ],
      "metadata": {
        "id": "J8fQOjwINpcC"
      }
    },
    {
      "cell_type": "code",
      "source": [
        "from xgboost import XGBRegressor\n",
        "\n",
        "# Instantiate the model\n",
        "model = XGBRegressor(random_state=42)\n",
        "\n",
        "# Train the model on the training data\n",
        "model.fit(X_train, y_train)\n",
        "\n",
        "# Make predictions on the test data\n",
        "xgb_predictions = model.predict(X_test)\n",
        "print(xgb_predictions)\n"
      ],
      "metadata": {
        "id": "WjkNJchENhLp",
        "colab": {
          "base_uri": "https://localhost:8080/"
        },
        "outputId": "9626963b-345b-4347-8b07-17ea1d88132d"
      },
      "execution_count": 63,
      "outputs": [
        {
          "output_type": "stream",
          "name": "stdout",
          "text": [
            "[5.295484  5.0994434 5.5624557 5.3151455 5.9985027 5.0127673 5.0162635\n",
            " 4.995122  6.2172465 5.658531  6.954452  5.3691854 5.842692  5.1505237\n",
            " 5.563595  6.538722  5.3507857 5.670526  6.8481426 4.998055  4.9689507\n",
            " 6.00458   5.6407185 5.752792  5.6120696 5.9968295 6.034592  5.7824993\n",
            " 5.023897  5.996535  5.2753577 5.236585  5.977275  5.5492954 5.9290347\n",
            " 5.001721  6.4305506 6.0882745 5.6476603 6.020171  5.3746676 5.217167\n",
            " 6.486559  5.327756  5.1806526 5.80129   5.9301696 5.5454106 4.9923506\n",
            " 5.7804704 4.9920382 4.9521074 5.223649  7.0042048 5.001881  5.9725537\n",
            " 6.060155  5.967267  5.192905  5.0178103 6.1649046 6.916137  5.4710116\n",
            " 5.2959466 6.576915  5.269301  6.712698  5.593771  6.2935457 5.554867\n",
            " 6.204447  5.1530533 5.678393  5.559818  5.9797525 5.0127606 6.502949\n",
            " 4.972099  5.8699703 6.1077256 5.0040216 7.059235  5.016856  5.9608865\n",
            " 6.3687296 6.1414933 5.018312  5.9533477 6.72358   5.594555  6.7443476\n",
            " 5.5689483 4.991212  5.024968  5.3010545 5.627131  5.0498104 6.268465\n",
            " 3.9123409 5.5537233 4.5755095 5.086092  5.4983697 6.960292  4.979359\n",
            " 6.8556137 6.2531934 5.014797  5.0887666 5.244078  6.5021253 5.209\n",
            " 6.570194  5.0922685 5.17148   6.739356  5.104165  5.060199  4.75421\n",
            " 5.535828  5.3829527 5.807639  6.0234776 5.0704613 5.885089  5.6659546\n",
            " 6.5234528 5.845445  5.0310235 5.567633  5.678393  5.282162  5.07509\n",
            " 7.200316  5.7804704 4.994019  4.7809362 5.268702  5.2882094 6.0620356\n",
            " 6.9881415 6.6047406 6.5598006 5.0838356 5.140104  5.036775  5.707361\n",
            " 5.9721236 5.3773956 4.9634914 5.760381  6.647724  5.5362787 5.0646353\n",
            " 5.678393  5.1025586 5.4202704 6.9341493 5.054971  6.075033  5.162114\n",
            " 5.307717  6.2323284 5.004068  5.392502  5.78256   5.9936986 5.2170696\n",
            " 4.0035    5.2128553 4.9591746 4.998317  6.664068  5.198183  7.0036297\n",
            " 5.531779  6.0731435 5.054056  5.1251855 4.589016  5.3871193 5.655239\n",
            " 5.738869  6.5323377 4.839089  6.5202727 6.3039804 5.9340982 6.665728\n",
            " 5.198183  5.667587  5.989798  5.4484215 6.1472836 6.2994328 5.0129466\n",
            " 4.186731  5.8710036 5.3563485 6.8556137 5.029528  5.589626  5.6328278\n",
            " 4.863026  6.90817   5.261026  5.030119  5.60038   5.44839   5.949416\n",
            " 7.9639053 5.1435456 5.057171  6.977564  6.2690425 6.254464  5.9922943\n",
            " 4.7087865 5.8009877 5.643946  5.5608115 6.004512  6.080898  6.2901306\n",
            " 4.2876277 4.8623543 5.1919894 7.0930624 5.8448935 5.398541  5.156121\n",
            " 4.684004  6.6365213 5.9869776 5.00624   6.8556137 5.0122886 6.3687296\n",
            " 5.994182  4.9757934 5.595126  4.8889666 5.8154426 6.9340563 5.4666514\n",
            " 7.0202174 5.7454476 5.154623  6.7014565 5.012653  5.797246  5.745481\n",
            " 5.3410816 5.8316197 5.284365  5.1671286 5.0173197 5.2121644 5.4241533\n",
            " 6.3601093 6.490972  5.2634745 5.054056  6.255267  5.8301945 6.6668224\n",
            " 5.413631  5.1739593 6.0339136 5.9931555 4.8350644 5.962699  5.6159053\n",
            " 5.879586  5.5980372 5.2101865 5.805643  6.9846735 6.2631354 5.9959807\n",
            " 7.1488123 5.1925163 5.2924976 5.537416  5.5180693 6.9972196 5.0622144\n",
            " 6.6047406 5.3527064 6.1659017 5.188355  7.1546683 6.558709  5.2288675\n",
            " 5.051105  6.283107  4.997862  7.121484  6.297381  6.0665812 4.9661503\n",
            " 4.9779806 6.1222177 4.613384  5.918374  4.9495845 5.290798  5.9092093\n",
            " 6.1644974 6.990816  5.538994  5.080097  5.9247894 5.4535947 5.5492954\n",
            " 5.971064  5.0128164 5.116169  6.538463  4.8789897]\n"
          ]
        }
      ]
    },
    {
      "cell_type": "code",
      "source": [
        "mae = mean_absolute_error(y_test, xgb_predictions)\n",
        "mse = mean_squared_error(y_test, xgb_predictions)\n",
        "r2 = r2_score(y_test, xgb_predictions)\n",
        "\n",
        "print(f\"Mean Absolute Error (MAE): {mae}\")\n",
        "print(f\"Mean Squared Error (MSE): {mse}\")\n",
        "print(f\"R-squared (R²): {r2}\")"
      ],
      "metadata": {
        "colab": {
          "base_uri": "https://localhost:8080/"
        },
        "id": "2GxhoEIu-tY-",
        "outputId": "f3ec39f3-f760-4538-8e1e-9b08d2fda17e"
      },
      "execution_count": 64,
      "outputs": [
        {
          "output_type": "stream",
          "name": "stdout",
          "text": [
            "Mean Absolute Error (MAE): 0.4191360227763653\n",
            "Mean Squared Error (MSE): 0.3603729762415421\n",
            "R-squared (R²): 0.4485543303526067\n"
          ]
        }
      ]
    },
    {
      "cell_type": "markdown",
      "source": [
        "Random Forest Regressor"
      ],
      "metadata": {
        "id": "YC9JMh57Nxp-"
      }
    },
    {
      "cell_type": "code",
      "source": [
        "from sklearn.ensemble import RandomForestRegressor\n",
        "\n",
        "# Instantiate the model\n",
        "model = RandomForestRegressor(random_state=42)\n",
        "\n",
        "# Train the model on the training data\n",
        "model.fit(X_train, y_train)\n",
        "\n",
        "# Make predictions on the test data\n",
        "rfr_predictions = model.predict(X_test)\n",
        "print(rfr_predictions)\n"
      ],
      "metadata": {
        "id": "UnYfRv1tNkdS",
        "colab": {
          "base_uri": "https://localhost:8080/"
        },
        "outputId": "4c044581-87d2-497a-92e6-b8f8a97584a1"
      },
      "execution_count": 65,
      "outputs": [
        {
          "output_type": "stream",
          "name": "stdout",
          "text": [
            "[5.3  5.23 5.45 5.17 6.   5.06 5.13 4.93 6.16 5.89 6.75 5.29 5.72 5.32\n",
            " 5.46 6.36 5.43 5.79 6.85 5.06 4.94 5.86 5.38 5.96 5.59 5.97 6.43 5.33\n",
            " 5.32 5.98 5.31 5.46 5.9  5.57 5.86 5.14 6.26 5.98 5.38 6.05 5.2  5.13\n",
            " 6.25 5.09 5.56 5.68 6.32 5.62 5.19 5.75 5.06 5.25 5.65 7.06 5.2  5.62\n",
            " 5.95 5.85 5.62 5.02 5.66 6.11 5.5  5.33 6.69 5.36 6.69 5.62 6.72 5.49\n",
            " 6.06 5.26 5.85 5.56 6.06 5.04 6.62 5.25 5.95 6.59 5.2  6.78 5.18 5.63\n",
            " 5.81 6.46 5.12 5.97 6.5  5.41 6.34 5.58 5.02 5.26 5.25 5.42 5.11 5.93\n",
            " 4.63 5.51 5.07 5.02 5.81 6.44 5.56 6.69 5.86 5.2  5.42 5.21 6.47 5.03\n",
            " 6.4  5.01 5.22 6.18 5.32 5.26 5.11 5.86 6.14 5.75 5.77 5.32 5.73 5.28\n",
            " 6.37 5.52 5.19 5.58 5.85 5.33 5.03 6.34 5.75 5.06 4.85 5.36 5.15 5.9\n",
            " 6.61 6.24 6.51 5.41 5.52 5.14 5.56 5.6  5.63 5.11 5.85 6.23 5.38 5.16\n",
            " 5.85 5.4  5.53 6.53 5.19 5.91 5.96 5.59 6.38 5.09 5.39 5.7  5.48 4.98\n",
            " 4.77 5.18 5.07 4.94 6.5  5.36 6.53 5.9  6.17 5.08 5.4  5.01 4.5  5.88\n",
            " 5.47 6.23 5.14 6.57 5.68 5.89 6.69 5.36 5.61 6.02 5.13 6.32 5.72 5.03\n",
            " 4.57 5.83 5.3  6.69 5.19 5.33 5.39 5.11 6.65 5.43 5.05 4.82 5.84 6.08\n",
            " 7.37 5.04 5.25 6.72 6.2  5.78 5.7  4.98 5.93 5.7  5.65 6.17 6.17 6.12\n",
            " 4.84 4.89 5.15 7.   5.36 5.42 5.3  4.7  6.55 6.   5.17 6.69 5.02 5.81\n",
            " 5.82 5.01 5.45 5.01 5.78 6.65 5.43 6.49 5.75 5.6  6.51 5.03 5.83 5.45\n",
            " 5.48 5.71 4.99 5.27 5.48 5.26 5.6  6.3  6.53 5.62 5.08 6.23 5.79 6.39\n",
            " 5.52 5.31 5.98 6.25 5.07 5.9  5.4  5.75 5.71 5.34 5.61 6.77 6.42 5.95\n",
            " 6.94 5.08 5.54 5.46 5.5  6.47 5.02 6.24 5.39 5.92 5.4  6.94 6.4  5.3\n",
            " 5.1  6.29 5.33 6.71 6.28 6.12 5.03 5.07 6.14 5.36 5.87 5.21 6.11 5.9\n",
            " 5.68 6.91 5.46 5.35 5.57 5.59 5.57 5.89 4.93 5.09 6.35 5.08]\n"
          ]
        }
      ]
    },
    {
      "cell_type": "code",
      "source": [
        "mae = mean_absolute_error(y_test, rfr_predictions)\n",
        "mse = mean_squared_error(y_test, rfr_predictions)\n",
        "r2 = r2_score(y_test, rfr_predictions)\n",
        "\n",
        "print(f\"Mean Absolute Error (MAE): {mae}\")\n",
        "print(f\"Mean Squared Error (MSE): {mse}\")\n",
        "print(f\"R-squared (R²): {r2}\")"
      ],
      "metadata": {
        "colab": {
          "base_uri": "https://localhost:8080/"
        },
        "id": "_9BS2H7P-u_n",
        "outputId": "ac004471-577c-400f-ebd3-900ed61245a0"
      },
      "execution_count": 66,
      "outputs": [
        {
          "output_type": "stream",
          "name": "stdout",
          "text": [
            "Mean Absolute Error (MAE): 0.42384374999999996\n",
            "Mean Squared Error (MSE): 0.30341593749999995\n",
            "R-squared (R²): 0.5357104559243264\n"
          ]
        }
      ]
    }
  ],
  "metadata": {
    "colab": {
      "provenance": []
    },
    "kernelspec": {
      "display_name": "Python 3",
      "name": "python3"
    },
    "language_info": {
      "name": "python"
    }
  },
  "nbformat": 4,
  "nbformat_minor": 0
}