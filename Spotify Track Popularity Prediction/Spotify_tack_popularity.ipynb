{
  "nbformat": 4,
  "nbformat_minor": 0,
  "metadata": {
    "colab": {
      "provenance": []
    },
    "kernelspec": {
      "name": "python3",
      "display_name": "Python 3"
    },
    "language_info": {
      "name": "python"
    }
  },
  "cells": [
    {
      "cell_type": "code",
      "source": [
        "import pandas as pd\n",
        "from sklearn.model_selection import train_test_split\n",
        "from sklearn.preprocessing import StandardScaler\n",
        "from sklearn.ensemble import RandomForestClassifier\n",
        "from sklearn.impute import SimpleImputer\n",
        "from sklearn.metrics import classification_report, accuracy_score\n",
        "\n",
        "# Load the CSV file\n",
        "spotify_data = pd.read_csv(\"spotify-tracks.csv\")\n",
        "\n",
        "# Define the threshold for high popularity\n",
        "popularity_threshold = 70\n",
        "\n",
        "# Create a target variable 'high_popularity'\n",
        "spotify_data['high_popularity'] = (spotify_data['popularity'] >= popularity_threshold).astype(int)\n",
        "\n",
        "# Select features for the model\n",
        "features = ['duration_ms', 'danceability', 'energy', 'loudness', 'speechiness',\n",
        "            'acousticness', 'instrumentalness', 'liveness', 'valence', 'tempo', 'time_signature']\n",
        "X = spotify_data[features]\n",
        "y = spotify_data['high_popularity']\n",
        "\n",
        "# Handle missing values by imputing with the mean\n",
        "imputer = SimpleImputer(strategy='mean')\n",
        "X_imputed = imputer.fit_transform(X)\n",
        "\n",
        "# Split the data into training and testing sets\n",
        "X_train, X_test, y_train, y_test = train_test_split(X_imputed, y, test_size=0.2, random_state=42)\n",
        "\n",
        "# Standardize the features\n",
        "scaler = StandardScaler()\n",
        "X_train_scaled = scaler.fit_transform(X_train)\n",
        "X_test_scaled = scaler.transform(X_test)\n",
        "\n",
        "# Train a Random Forest Classifier\n",
        "classifier = RandomForestClassifier(random_state=42)\n",
        "classifier.fit(X_train_scaled, y_train)\n",
        "\n",
        "# Make predictions\n",
        "y_pred = classifier.predict(X_test_scaled)\n",
        "\n",
        "# Evaluate the model\n",
        "accuracy = accuracy_score(y_test, y_pred)\n",
        "report = classification_report(y_test, y_pred)\n",
        "\n",
        "print(f\"Accuracy: {accuracy:.4f}\")\n",
        "print(\"Classification Report:\")\n",
        "print(report)\n"
      ],
      "metadata": {
        "colab": {
          "base_uri": "https://localhost:8080/"
        },
        "id": "eTvkwnoQUmIO",
        "outputId": "e5e9dddd-ead0-41b9-8921-44c8ea07a577"
      },
      "execution_count": null,
      "outputs": [
        {
          "output_type": "stream",
          "name": "stdout",
          "text": [
            "Accuracy: 0.9656\n",
            "Classification Report:\n",
            "              precision    recall  f1-score   support\n",
            "\n",
            "           0       0.97      1.00      0.98      4562\n",
            "           1       0.92      0.23      0.36       207\n",
            "\n",
            "    accuracy                           0.97      4769\n",
            "   macro avg       0.94      0.61      0.67      4769\n",
            "weighted avg       0.96      0.97      0.96      4769\n",
            "\n"
          ]
        }
      ]
    }
  ]
}