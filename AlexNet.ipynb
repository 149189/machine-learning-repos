{
 "cells": [
  {
   "cell_type": "markdown",
   "metadata": {},
   "source": [
    "<h1 align=center>AlexNet</h1>                                                   "
   ]
  },
  {
   "cell_type": "markdown",
   "metadata": {},
   "source": [
    "## Loading the libraries"
   ]
  },
  {
   "cell_type": "code",
   "execution_count": null,
   "metadata": {
    "id": "XfHc5-Kj8o_r"
   },
   "outputs": [],
   "source": [
    "import tensorflow as tf\n",
    "from tensorflow.keras.models import Sequential\n",
    "from tensorflow.keras.layers import Conv2D, MaxPooling2D, Dense, Flatten, Dropout\n",
    "from tensorflow.keras.optimizers import Adam\n",
    "from tensorflow.keras.preprocessing.image import ImageDataGenerator\n",
    "from tensorflow.keras.datasets import cifar10\n",
    "from tensorflow.keras.utils import to_categorical"
   ]
  },
  {
   "cell_type": "markdown",
   "metadata": {},
   "source": [
    "## Loading and pre-processing the CIFAR-10 dataset"
   ]
  },
  {
   "cell_type": "code",
   "execution_count": null,
   "metadata": {
    "colab": {
     "base_uri": "https://localhost:8080/"
    },
    "executionInfo": {
     "elapsed": 1030,
     "status": "ok",
     "timestamp": 1718036460500,
     "user": {
      "displayName": "Shreehan Ray Jena",
      "userId": "03700681222864615094"
     },
     "user_tz": -330
    },
    "id": "RSzE1I1_88QY",
    "outputId": "08e298af-4703-4217-86f3-6cc216336494"
   },
   "outputs": [
    {
     "name": "stdout",
     "output_type": "stream",
     "text": [
      "Downloading data from https://www.cs.toronto.edu/~kriz/cifar-10-python.tar.gz\n",
      "170498071/170498071 [==============================] - 4s 0us/step\n"
     ]
    }
   ],
   "source": [
    "(x_train, y_train), (x_test, y_test) = cifar10.load_data()\n",
    "x_train = x_train.astype('float32') / 255.0\n",
    "x_test = x_test.astype('float32') / 255.0\n",
    "y_train = to_categorical(y_train, 10)\n",
    "y_test = to_categorical(y_test, 10)"
   ]
  },
  {
   "cell_type": "markdown",
   "metadata": {},
   "source": [
    "## Defining the AlexNet model"
   ]
  },
  {
   "cell_type": "code",
   "execution_count": null,
   "metadata": {
    "id": "-8zd21RA89EI"
   },
   "outputs": [],
   "source": [
    "def alexnet_model(input_shape=(32, 32, 3), num_classes=10):\n",
    "    model = Sequential()\n",
    "    model.add(Conv2D(filters=96, input_shape=input_shape, kernel_size=(11, 11), strides=(4, 4), padding='same', activation='relu'))\n",
    "    model.add(MaxPooling2D(pool_size=(3, 3), strides=(2, 2), padding='same'))\n",
    "    model.add(Conv2D(filters=256, kernel_size=(5, 5), strides=(1, 1), padding='same', activation='relu'))\n",
    "    model.add(MaxPooling2D(pool_size=(3, 3), strides=(2, 2), padding='same'))\n",
    "    model.add(Conv2D(filters=384, kernel_size=(3, 3), strides=(1, 1), padding='same', activation='relu'))\n",
    "    model.add(Conv2D(filters=384, kernel_size=(3, 3), strides=(1, 1), padding='same', activation='relu'))\n",
    "    model.add(Conv2D(filters=256, kernel_size=(3, 3), strides=(1, 1), padding='same', activation='relu'))\n",
    "    model.add(MaxPooling2D(pool_size=(3, 3), strides=(2, 2), padding='same'))\n",
    "    model.add(Flatten())\n",
    "    model.add(Dense(4096, activation='relu'))\n",
    "    model.add(Dropout(0.5))\n",
    "    model.add(Dense(4096, activation='relu'))\n",
    "    model.add(Dropout(0.5))\n",
    "    model.add(Dense(num_classes, activation='softmax'))\n",
    "    return model"
   ]
  },
  {
   "cell_type": "code",
   "execution_count": null,
   "metadata": {
    "id": "0c9Po5bp9AjI"
   },
   "outputs": [],
   "source": [
    "model = alexnet_model()\n",
    "model.compile(optimizer=Adam(), loss='categorical_crossentropy', metrics=['accuracy'])"
   ]
  },
  {
   "cell_type": "markdown",
   "metadata": {},
   "source": [
    "## Training the model"
   ]
  },
  {
   "cell_type": "code",
   "execution_count": null,
   "metadata": {
    "colab": {
     "base_uri": "https://localhost:8080/"
    },
    "executionInfo": {
     "elapsed": 1137710,
     "status": "ok",
     "timestamp": 1718038270415,
     "user": {
      "displayName": "Shreehan Ray Jena",
      "userId": "03700681222864615094"
     },
     "user_tz": -330
    },
    "id": "MpL5Z0XV9DxO",
    "outputId": "daba69c3-7394-4ad2-be96-f237072c0a75"
   },
   "outputs": [
    {
     "name": "stdout",
     "output_type": "stream",
     "text": [
      "Epoch 1/50\n",
      "781/781 [==============================] - 44s 47ms/step - loss: 2.0575 - accuracy: 0.1936 - val_loss: 1.8820 - val_accuracy: 0.2660\n",
      "Epoch 2/50\n",
      "781/781 [==============================] - 34s 44ms/step - loss: 1.8396 - accuracy: 0.2885 - val_loss: 1.7524 - val_accuracy: 0.3283\n",
      "Epoch 3/50\n",
      "781/781 [==============================] - 32s 41ms/step - loss: 1.7623 - accuracy: 0.3354 - val_loss: 1.6363 - val_accuracy: 0.3965\n",
      "Epoch 4/50\n",
      "781/781 [==============================] - 34s 44ms/step - loss: 1.6861 - accuracy: 0.3793 - val_loss: 1.5740 - val_accuracy: 0.4096\n",
      "Epoch 5/50\n",
      "781/781 [==============================] - 33s 42ms/step - loss: 1.6392 - accuracy: 0.3989 - val_loss: 1.5184 - val_accuracy: 0.4472\n",
      "Epoch 6/50\n",
      "781/781 [==============================] - 34s 43ms/step - loss: 1.5915 - accuracy: 0.4209 - val_loss: 1.4825 - val_accuracy: 0.4615\n",
      "Epoch 7/50\n",
      "781/781 [==============================] - 34s 44ms/step - loss: 1.5557 - accuracy: 0.4381 - val_loss: 1.5305 - val_accuracy: 0.4591\n",
      "Epoch 8/50\n",
      "781/781 [==============================] - 32s 41ms/step - loss: 1.5275 - accuracy: 0.4489 - val_loss: 1.4183 - val_accuracy: 0.4869\n",
      "Epoch 9/50\n",
      "781/781 [==============================] - 33s 43ms/step - loss: 1.4963 - accuracy: 0.4651 - val_loss: 1.3836 - val_accuracy: 0.5016\n",
      "Epoch 10/50\n",
      "781/781 [==============================] - 34s 43ms/step - loss: 1.4803 - accuracy: 0.4722 - val_loss: 1.3975 - val_accuracy: 0.4982\n",
      "Epoch 11/50\n",
      "781/781 [==============================] - 33s 42ms/step - loss: 1.4491 - accuracy: 0.4841 - val_loss: 1.3756 - val_accuracy: 0.5109\n",
      "Epoch 12/50\n",
      "781/781 [==============================] - 34s 43ms/step - loss: 1.4379 - accuracy: 0.4890 - val_loss: 1.3505 - val_accuracy: 0.5200\n",
      "Epoch 13/50\n",
      "781/781 [==============================] - 33s 42ms/step - loss: 1.4210 - accuracy: 0.4926 - val_loss: 1.3709 - val_accuracy: 0.5101\n",
      "Epoch 14/50\n",
      "781/781 [==============================] - 34s 44ms/step - loss: 1.4077 - accuracy: 0.5002 - val_loss: 1.3549 - val_accuracy: 0.5184\n",
      "Epoch 15/50\n",
      "781/781 [==============================] - 35s 45ms/step - loss: 1.4029 - accuracy: 0.5020 - val_loss: 1.3171 - val_accuracy: 0.5280\n",
      "Epoch 16/50\n",
      "781/781 [==============================] - 34s 44ms/step - loss: 1.3857 - accuracy: 0.5087 - val_loss: 1.3373 - val_accuracy: 0.5216\n",
      "Epoch 17/50\n",
      "781/781 [==============================] - 33s 42ms/step - loss: 1.3668 - accuracy: 0.5143 - val_loss: 1.3295 - val_accuracy: 0.5233\n",
      "Epoch 18/50\n",
      "781/781 [==============================] - 34s 43ms/step - loss: 1.3590 - accuracy: 0.5181 - val_loss: 1.2816 - val_accuracy: 0.5441\n",
      "Epoch 19/50\n",
      "781/781 [==============================] - 34s 43ms/step - loss: 1.3485 - accuracy: 0.5242 - val_loss: 1.2940 - val_accuracy: 0.5372\n",
      "Epoch 20/50\n",
      "781/781 [==============================] - 33s 42ms/step - loss: 1.3384 - accuracy: 0.5301 - val_loss: 1.2692 - val_accuracy: 0.5434\n",
      "Epoch 21/50\n",
      "781/781 [==============================] - 33s 43ms/step - loss: 1.3289 - accuracy: 0.5288 - val_loss: 1.2887 - val_accuracy: 0.5406\n",
      "Epoch 22/50\n",
      "781/781 [==============================] - 33s 42ms/step - loss: 1.3286 - accuracy: 0.5311 - val_loss: 1.2457 - val_accuracy: 0.5568\n",
      "Epoch 23/50\n",
      "781/781 [==============================] - 35s 45ms/step - loss: 1.3135 - accuracy: 0.5407 - val_loss: 1.2184 - val_accuracy: 0.5681\n",
      "Epoch 24/50\n",
      "781/781 [==============================] - 34s 43ms/step - loss: 1.2991 - accuracy: 0.5434 - val_loss: 1.2581 - val_accuracy: 0.5542\n",
      "Epoch 25/50\n",
      "781/781 [==============================] - 33s 43ms/step - loss: 1.2950 - accuracy: 0.5469 - val_loss: 1.2178 - val_accuracy: 0.5737\n",
      "Epoch 26/50\n",
      "781/781 [==============================] - 32s 41ms/step - loss: 1.2919 - accuracy: 0.5482 - val_loss: 1.2412 - val_accuracy: 0.5610\n",
      "Epoch 27/50\n",
      "781/781 [==============================] - 34s 43ms/step - loss: 1.2857 - accuracy: 0.5484 - val_loss: 1.2362 - val_accuracy: 0.5591\n",
      "Epoch 28/50\n",
      "781/781 [==============================] - 33s 42ms/step - loss: 1.2809 - accuracy: 0.5531 - val_loss: 1.2285 - val_accuracy: 0.5709\n",
      "Epoch 29/50\n",
      "781/781 [==============================] - 34s 43ms/step - loss: 1.3380 - accuracy: 0.5321 - val_loss: 1.5475 - val_accuracy: 0.4427\n",
      "Epoch 30/50\n",
      "781/781 [==============================] - 33s 42ms/step - loss: 1.3396 - accuracy: 0.5307 - val_loss: 1.2124 - val_accuracy: 0.5747\n",
      "Epoch 31/50\n",
      "781/781 [==============================] - 35s 45ms/step - loss: 1.2559 - accuracy: 0.5607 - val_loss: 1.2204 - val_accuracy: 0.5666\n",
      "Epoch 32/50\n",
      "781/781 [==============================] - 33s 43ms/step - loss: 1.2478 - accuracy: 0.5660 - val_loss: 1.1834 - val_accuracy: 0.5821\n",
      "Epoch 33/50\n",
      "781/781 [==============================] - 32s 41ms/step - loss: 1.2437 - accuracy: 0.5663 - val_loss: 1.2178 - val_accuracy: 0.5738\n",
      "Epoch 34/50\n",
      "781/781 [==============================] - 33s 42ms/step - loss: 1.2518 - accuracy: 0.5633 - val_loss: 1.2039 - val_accuracy: 0.5723\n",
      "Epoch 35/50\n",
      "781/781 [==============================] - 34s 43ms/step - loss: 1.2368 - accuracy: 0.5692 - val_loss: 1.1840 - val_accuracy: 0.5814\n",
      "Epoch 36/50\n",
      "781/781 [==============================] - 33s 43ms/step - loss: 1.2631 - accuracy: 0.5593 - val_loss: 1.1858 - val_accuracy: 0.5847\n",
      "Epoch 37/50\n",
      "781/781 [==============================] - 32s 41ms/step - loss: 1.2275 - accuracy: 0.5739 - val_loss: 1.2365 - val_accuracy: 0.5700\n",
      "Epoch 38/50\n",
      "781/781 [==============================] - 34s 43ms/step - loss: 1.2254 - accuracy: 0.5741 - val_loss: 1.1745 - val_accuracy: 0.5922\n",
      "Epoch 39/50\n",
      "781/781 [==============================] - 35s 45ms/step - loss: 1.2192 - accuracy: 0.5776 - val_loss: 1.1989 - val_accuracy: 0.5794\n",
      "Epoch 40/50\n",
      "781/781 [==============================] - 33s 42ms/step - loss: 1.2095 - accuracy: 0.5786 - val_loss: 1.1959 - val_accuracy: 0.5843\n",
      "Epoch 41/50\n",
      "781/781 [==============================] - 34s 43ms/step - loss: 1.2073 - accuracy: 0.5811 - val_loss: 1.1815 - val_accuracy: 0.5889\n",
      "Epoch 42/50\n",
      "781/781 [==============================] - 33s 42ms/step - loss: 1.2055 - accuracy: 0.5811 - val_loss: 1.1832 - val_accuracy: 0.5955\n",
      "Epoch 43/50\n",
      "781/781 [==============================] - 34s 43ms/step - loss: 1.1998 - accuracy: 0.5842 - val_loss: 1.1368 - val_accuracy: 0.6021\n",
      "Epoch 44/50\n",
      "781/781 [==============================] - 34s 43ms/step - loss: 1.1988 - accuracy: 0.5834 - val_loss: 1.1317 - val_accuracy: 0.6025\n",
      "Epoch 45/50\n",
      "781/781 [==============================] - 33s 42ms/step - loss: 1.1930 - accuracy: 0.5852 - val_loss: 1.1994 - val_accuracy: 0.5928\n",
      "Epoch 46/50\n",
      "781/781 [==============================] - 34s 43ms/step - loss: 1.1901 - accuracy: 0.5889 - val_loss: 1.1463 - val_accuracy: 0.6043\n",
      "Epoch 47/50\n",
      "781/781 [==============================] - 34s 43ms/step - loss: 1.1871 - accuracy: 0.5874 - val_loss: 1.1536 - val_accuracy: 0.5951\n",
      "Epoch 48/50\n",
      "781/781 [==============================] - 33s 43ms/step - loss: 1.1931 - accuracy: 0.5866 - val_loss: 1.1549 - val_accuracy: 0.5943\n",
      "Epoch 49/50\n",
      "781/781 [==============================] - 33s 42ms/step - loss: 1.1723 - accuracy: 0.5948 - val_loss: 1.1362 - val_accuracy: 0.6069\n",
      "Epoch 50/50\n",
      "781/781 [==============================] - 34s 44ms/step - loss: 1.1707 - accuracy: 0.5943 - val_loss: 1.1670 - val_accuracy: 0.5940\n"
     ]
    }
   ],
   "source": [
    "datagen = ImageDataGenerator(\n",
    "    rotation_range=15,\n",
    "    width_shift_range=0.1,\n",
    "    height_shift_range=0.1,\n",
    "    horizontal_flip=True,\n",
    ")\n",
    "datagen.fit(x_train)\n",
    "\n",
    "history = model.fit(\n",
    "    datagen.flow(x_train, y_train, batch_size=64),\n",
    "    epochs=50,\n",
    "    validation_data=(x_test, y_test),\n",
    "    steps_per_epoch=x_train.shape[0] // 64\n",
    ")"
   ]
  },
  {
   "cell_type": "markdown",
   "metadata": {},
   "source": [
    "## Test accuracy and loss"
   ]
  },
  {
   "cell_type": "code",
   "execution_count": null,
   "metadata": {
    "colab": {
     "base_uri": "https://localhost:8080/"
    },
    "executionInfo": {
     "elapsed": 1651,
     "status": "ok",
     "timestamp": 1718038272059,
     "user": {
      "displayName": "Shreehan Ray Jena",
      "userId": "03700681222864615094"
     },
     "user_tz": -330
    },
    "id": "xcyaYExq9HIm",
    "outputId": "292086b5-3804-4b58-cd0f-697c78c58aa5"
   },
   "outputs": [
    {
     "name": "stdout",
     "output_type": "stream",
     "text": [
      "Test loss: 1.1670268774032593\n",
      "Test accuracy: 0.593999981880188\n"
     ]
    }
   ],
   "source": [
    "score = model.evaluate(x_test, y_test, verbose=0)\n",
    "print('Test loss:', score[0])\n",
    "print('Test accuracy:', score[1])"
   ]
  }
 ],
 "metadata": {
  "colab": {
   "authorship_tag": "ABX9TyOm1WfSQYaueyWhsUc0+cds",
   "provenance": []
  },
  "kernelspec": {
   "display_name": "Python 3 (ipykernel)",
   "language": "python",
   "name": "python3"
  },
  "language_info": {
   "codemirror_mode": {
    "name": "ipython",
    "version": 3
   },
   "file_extension": ".py",
   "mimetype": "text/x-python",
   "name": "python",
   "nbconvert_exporter": "python",
   "pygments_lexer": "ipython3",
   "version": "3.9.16"
  }
 },
 "nbformat": 4,
 "nbformat_minor": 1
}
