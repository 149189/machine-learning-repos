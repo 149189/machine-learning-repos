{
  "nbformat": 4,
  "nbformat_minor": 0,
  "metadata": {
    "colab": {
      "provenance": []
    },
    "kernelspec": {
      "name": "python3",
      "display_name": "Python 3"
    }
  },
  "cells": [
    {
      "cell_type": "markdown",
      "metadata": {
        "id": "Q8X8xDwS6vgS"
      },
      "source": [
        "# Logistic Regression"
      ]
    },
    {
      "cell_type": "markdown",
      "metadata": {
        "id": "PEGG4I6n60cM"
      },
      "source": [
        "## Importing the libraries"
      ]
    },
    {
      "cell_type": "code",
      "metadata": {
        "id": "D4b029YC7C-y"
      },
      "source": [
        "import numpy as np\n",
        "import matplotlib.pyplot as plt\n",
        "import pandas as pd"
      ],
      "execution_count": 33,
      "outputs": []
    },
    {
      "cell_type": "markdown",
      "metadata": {
        "id": "Aa536pRY7Eq5"
      },
      "source": [
        "## Importing the dataset"
      ]
    },
    {
      "cell_type": "code",
      "source": [],
      "metadata": {
        "id": "TeRX6QiKZoad"
      },
      "execution_count": 33,
      "outputs": []
    },
    {
      "cell_type": "code",
      "metadata": {
        "id": "4POXlqg47Ny3"
      },
      "source": [
        "dataset = pd.read_csv('HR_Dataset.csv.xls')\n",
        "X = dataset.iloc[:, :-3].values\n",
        "y = dataset.iloc[:, -3].values"
      ],
      "execution_count": 34,
      "outputs": []
    },
    {
      "cell_type": "markdown",
      "metadata": {
        "id": "0AnzJQCj7TLO"
      },
      "source": [
        "## Splitting the dataset into the Training set and Test set"
      ]
    },
    {
      "cell_type": "code",
      "metadata": {
        "id": "WOQwyng57dp2"
      },
      "source": [
        "from sklearn.model_selection import train_test_split\n",
        "X_train, X_test, y_train, y_test = train_test_split(X, y, test_size = 0.2, random_state = 0)"
      ],
      "execution_count": 35,
      "outputs": []
    },
    {
      "cell_type": "code",
      "source": [
        "print(X)"
      ],
      "metadata": {
        "colab": {
          "base_uri": "https://localhost:8080/"
        },
        "id": "y0esbhAATKib",
        "outputId": "9ab1e140-e838-4bfc-fa22-8a7a051263d2"
      },
      "execution_count": 36,
      "outputs": [
        {
          "output_type": "stream",
          "name": "stdout",
          "text": [
            "[[0.38 0.53 2.   ... 3.   0.   1.  ]\n",
            " [0.8  0.86 5.   ... 6.   0.   1.  ]\n",
            " [0.11 0.88 7.   ... 4.   0.   1.  ]\n",
            " ...\n",
            " [0.37 0.53 2.   ... 3.   0.   1.  ]\n",
            " [0.11 0.96 6.   ... 4.   0.   1.  ]\n",
            " [0.37 0.52 2.   ... 3.   0.   1.  ]]\n"
          ]
        }
      ]
    },
    {
      "cell_type": "code",
      "source": [
        "# from sklearn.compose import ColumnTransformer\n",
        "# from sklearn.preprocessing import OneHotEncoder\n",
        "# ct = ColumnTransformer(transformers=[('encoder', OneHotEncoder(), [1, 3, 8])], remainder='passthrough')\n",
        "# X = np.array(ct.fit_transform(X))"
      ],
      "metadata": {
        "id": "yjJIYc46TURa"
      },
      "execution_count": 37,
      "outputs": []
    },
    {
      "cell_type": "code",
      "source": [
        "print(X)"
      ],
      "metadata": {
        "colab": {
          "base_uri": "https://localhost:8080/"
        },
        "id": "CGsx3-2mW8G0",
        "outputId": "6fbc067e-1b3f-47eb-a02d-bab34b9c20cf"
      },
      "execution_count": 38,
      "outputs": [
        {
          "output_type": "stream",
          "name": "stdout",
          "text": [
            "[[0.38 0.53 2.   ... 3.   0.   1.  ]\n",
            " [0.8  0.86 5.   ... 6.   0.   1.  ]\n",
            " [0.11 0.88 7.   ... 4.   0.   1.  ]\n",
            " ...\n",
            " [0.37 0.53 2.   ... 3.   0.   1.  ]\n",
            " [0.11 0.96 6.   ... 4.   0.   1.  ]\n",
            " [0.37 0.52 2.   ... 3.   0.   1.  ]]\n"
          ]
        }
      ]
    },
    {
      "cell_type": "code",
      "source": [
        "print(y)"
      ],
      "metadata": {
        "colab": {
          "base_uri": "https://localhost:8080/"
        },
        "id": "tcbZj7-_VeAq",
        "outputId": "a3e0d6fd-907a-487c-ae96-7938e4d7d9f4"
      },
      "execution_count": 39,
      "outputs": [
        {
          "output_type": "stream",
          "name": "stdout",
          "text": [
            "[0 0 0 ... 0 0 0]\n"
          ]
        }
      ]
    },
    {
      "cell_type": "code",
      "source": [
        "y = y.reshape(len(y),1)"
      ],
      "metadata": {
        "id": "TGIu3sNFV7V8"
      },
      "execution_count": 40,
      "outputs": []
    },
    {
      "cell_type": "code",
      "source": [
        "print(y)"
      ],
      "metadata": {
        "colab": {
          "base_uri": "https://localhost:8080/"
        },
        "id": "CKtL8GHMV8cY",
        "outputId": "1f725e86-5b31-418e-8a52-58cb01b6c10b"
      },
      "execution_count": 41,
      "outputs": [
        {
          "output_type": "stream",
          "name": "stdout",
          "text": [
            "[[0]\n",
            " [0]\n",
            " [0]\n",
            " ...\n",
            " [0]\n",
            " [0]\n",
            " [0]]\n"
          ]
        }
      ]
    },
    {
      "cell_type": "code",
      "source": [
        "from sklearn.compose import ColumnTransformer\n",
        "from sklearn.preprocessing import OneHotEncoder\n",
        "ct = ColumnTransformer(transformers=[('encoder', OneHotEncoder(), [0])], remainder='passthrough')\n",
        "y = np.array(ct.fit_transform(y))"
      ],
      "metadata": {
        "id": "r87uPzgBUOOf"
      },
      "execution_count": 42,
      "outputs": []
    },
    {
      "cell_type": "code",
      "source": [
        "print(y)"
      ],
      "metadata": {
        "colab": {
          "base_uri": "https://localhost:8080/"
        },
        "id": "tqkOn6sgTzR_",
        "outputId": "2ddd165f-4b30-44e8-e179-3ceb3c94fe6b"
      },
      "execution_count": 43,
      "outputs": [
        {
          "output_type": "stream",
          "name": "stdout",
          "text": [
            "[[1. 0.]\n",
            " [1. 0.]\n",
            " [1. 0.]\n",
            " ...\n",
            " [1. 0.]\n",
            " [1. 0.]\n",
            " [1. 0.]]\n"
          ]
        }
      ]
    },
    {
      "cell_type": "markdown",
      "metadata": {
        "id": "pS1Q-n_A7iZ_"
      },
      "source": [
        "## Training the Logistic Regression model on the Training set"
      ]
    },
    {
      "cell_type": "code",
      "metadata": {
        "id": "9V-LgiUa78lX",
        "colab": {
          "base_uri": "https://localhost:8080/",
          "height": 230
        },
        "outputId": "7e6b8e37-54f0-42f5-d9ce-4051b880c578"
      },
      "source": [
        "from sklearn.linear_model import LogisticRegression\n",
        "classifier = LogisticRegression(random_state = 0)\n",
        "classifier.fit(X_train, y_train)"
      ],
      "execution_count": 44,
      "outputs": [
        {
          "output_type": "stream",
          "name": "stderr",
          "text": [
            "/usr/local/lib/python3.10/dist-packages/sklearn/linear_model/_logistic.py:458: ConvergenceWarning: lbfgs failed to converge (status=1):\n",
            "STOP: TOTAL NO. of ITERATIONS REACHED LIMIT.\n",
            "\n",
            "Increase the number of iterations (max_iter) or scale the data as shown in:\n",
            "    https://scikit-learn.org/stable/modules/preprocessing.html\n",
            "Please also refer to the documentation for alternative solver options:\n",
            "    https://scikit-learn.org/stable/modules/linear_model.html#logistic-regression\n",
            "  n_iter_i = _check_optimize_result(\n"
          ]
        },
        {
          "output_type": "execute_result",
          "data": {
            "text/plain": [
              "LogisticRegression(random_state=0)"
            ],
            "text/html": [
              "<style>#sk-container-id-2 {color: black;background-color: white;}#sk-container-id-2 pre{padding: 0;}#sk-container-id-2 div.sk-toggleable {background-color: white;}#sk-container-id-2 label.sk-toggleable__label {cursor: pointer;display: block;width: 100%;margin-bottom: 0;padding: 0.3em;box-sizing: border-box;text-align: center;}#sk-container-id-2 label.sk-toggleable__label-arrow:before {content: \"▸\";float: left;margin-right: 0.25em;color: #696969;}#sk-container-id-2 label.sk-toggleable__label-arrow:hover:before {color: black;}#sk-container-id-2 div.sk-estimator:hover label.sk-toggleable__label-arrow:before {color: black;}#sk-container-id-2 div.sk-toggleable__content {max-height: 0;max-width: 0;overflow: hidden;text-align: left;background-color: #f0f8ff;}#sk-container-id-2 div.sk-toggleable__content pre {margin: 0.2em;color: black;border-radius: 0.25em;background-color: #f0f8ff;}#sk-container-id-2 input.sk-toggleable__control:checked~div.sk-toggleable__content {max-height: 200px;max-width: 100%;overflow: auto;}#sk-container-id-2 input.sk-toggleable__control:checked~label.sk-toggleable__label-arrow:before {content: \"▾\";}#sk-container-id-2 div.sk-estimator input.sk-toggleable__control:checked~label.sk-toggleable__label {background-color: #d4ebff;}#sk-container-id-2 div.sk-label input.sk-toggleable__control:checked~label.sk-toggleable__label {background-color: #d4ebff;}#sk-container-id-2 input.sk-hidden--visually {border: 0;clip: rect(1px 1px 1px 1px);clip: rect(1px, 1px, 1px, 1px);height: 1px;margin: -1px;overflow: hidden;padding: 0;position: absolute;width: 1px;}#sk-container-id-2 div.sk-estimator {font-family: monospace;background-color: #f0f8ff;border: 1px dotted black;border-radius: 0.25em;box-sizing: border-box;margin-bottom: 0.5em;}#sk-container-id-2 div.sk-estimator:hover {background-color: #d4ebff;}#sk-container-id-2 div.sk-parallel-item::after {content: \"\";width: 100%;border-bottom: 1px solid gray;flex-grow: 1;}#sk-container-id-2 div.sk-label:hover label.sk-toggleable__label {background-color: #d4ebff;}#sk-container-id-2 div.sk-serial::before {content: \"\";position: absolute;border-left: 1px solid gray;box-sizing: border-box;top: 0;bottom: 0;left: 50%;z-index: 0;}#sk-container-id-2 div.sk-serial {display: flex;flex-direction: column;align-items: center;background-color: white;padding-right: 0.2em;padding-left: 0.2em;position: relative;}#sk-container-id-2 div.sk-item {position: relative;z-index: 1;}#sk-container-id-2 div.sk-parallel {display: flex;align-items: stretch;justify-content: center;background-color: white;position: relative;}#sk-container-id-2 div.sk-item::before, #sk-container-id-2 div.sk-parallel-item::before {content: \"\";position: absolute;border-left: 1px solid gray;box-sizing: border-box;top: 0;bottom: 0;left: 50%;z-index: -1;}#sk-container-id-2 div.sk-parallel-item {display: flex;flex-direction: column;z-index: 1;position: relative;background-color: white;}#sk-container-id-2 div.sk-parallel-item:first-child::after {align-self: flex-end;width: 50%;}#sk-container-id-2 div.sk-parallel-item:last-child::after {align-self: flex-start;width: 50%;}#sk-container-id-2 div.sk-parallel-item:only-child::after {width: 0;}#sk-container-id-2 div.sk-dashed-wrapped {border: 1px dashed gray;margin: 0 0.4em 0.5em 0.4em;box-sizing: border-box;padding-bottom: 0.4em;background-color: white;}#sk-container-id-2 div.sk-label label {font-family: monospace;font-weight: bold;display: inline-block;line-height: 1.2em;}#sk-container-id-2 div.sk-label-container {text-align: center;}#sk-container-id-2 div.sk-container {/* jupyter's `normalize.less` sets `[hidden] { display: none; }` but bootstrap.min.css set `[hidden] { display: none !important; }` so we also need the `!important` here to be able to override the default hidden behavior on the sphinx rendered scikit-learn.org. See: https://github.com/scikit-learn/scikit-learn/issues/21755 */display: inline-block !important;position: relative;}#sk-container-id-2 div.sk-text-repr-fallback {display: none;}</style><div id=\"sk-container-id-2\" class=\"sk-top-container\"><div class=\"sk-text-repr-fallback\"><pre>LogisticRegression(random_state=0)</pre><b>In a Jupyter environment, please rerun this cell to show the HTML representation or trust the notebook. <br />On GitHub, the HTML representation is unable to render, please try loading this page with nbviewer.org.</b></div><div class=\"sk-container\" hidden><div class=\"sk-item\"><div class=\"sk-estimator sk-toggleable\"><input class=\"sk-toggleable__control sk-hidden--visually\" id=\"sk-estimator-id-2\" type=\"checkbox\" checked><label for=\"sk-estimator-id-2\" class=\"sk-toggleable__label sk-toggleable__label-arrow\">LogisticRegression</label><div class=\"sk-toggleable__content\"><pre>LogisticRegression(random_state=0)</pre></div></div></div></div></div>"
            ]
          },
          "metadata": {},
          "execution_count": 44
        }
      ]
    },
    {
      "cell_type": "markdown",
      "metadata": {
        "id": "4cgD7EnB8Dnd"
      },
      "source": [
        "## Predicting the Test set results"
      ]
    },
    {
      "cell_type": "code",
      "metadata": {
        "id": "1B4zQvOq8M7H"
      },
      "source": [
        "y_pred = classifier.predict(X_test)"
      ],
      "execution_count": 45,
      "outputs": []
    },
    {
      "cell_type": "markdown",
      "metadata": {
        "id": "26CHkZbs8Tu5"
      },
      "source": [
        "## Making the Confusion Matrix"
      ]
    },
    {
      "cell_type": "code",
      "metadata": {
        "id": "5BN8qx6e8aNZ",
        "colab": {
          "base_uri": "https://localhost:8080/"
        },
        "outputId": "35c1936d-258d-4fbf-c662-c8716168a603"
      },
      "source": [
        "from sklearn.metrics import confusion_matrix\n",
        "cm = confusion_matrix(y_test, y_pred)\n",
        "print(cm)"
      ],
      "execution_count": 46,
      "outputs": [
        {
          "output_type": "stream",
          "name": "stdout",
          "text": [
            "[[2933    0]\n",
            " [  67    0]]\n"
          ]
        }
      ]
    },
    {
      "cell_type": "markdown",
      "metadata": {
        "id": "kMErnLnu8hmb"
      },
      "source": [
        "## Computing the accuracy with k-Fold Cross Validation"
      ]
    },
    {
      "cell_type": "code",
      "source": [
        "from sklearn.datasets import load_iris\n",
        "from sklearn.linear_model import LogisticRegression\n",
        "from sklearn.model_selection import train_test_split, cross_val_score\n",
        "from sklearn.preprocessing import StandardScaler\n",
        "\n",
        "# Load example dataset\n",
        "data = load_iris()\n",
        "X = data.data\n",
        "y = data.target\n",
        "\n",
        "# Split the data into training and test sets\n",
        "X_train, X_test, y_train, y_test = train_test_split(X, y, test_size=0.2, random_state=0)\n",
        "\n",
        "# Scale the data\n",
        "scaler = StandardScaler()\n",
        "X_train = scaler.fit_transform(X_train)\n",
        "X_test = scaler.transform(X_test)\n",
        "\n",
        "# Define the classifier with increased iterations\n",
        "classifier = LogisticRegression(max_iter=1000, solver='lbfgs', random_state=0)\n",
        "\n",
        "# Calculate cross-validation scores\n",
        "accuracies = cross_val_score(estimator=classifier, X=X_train, y=y_train, cv=10)\n",
        "\n",
        "# Print the results\n",
        "print(\"Accuracy: {:.2f} %\".format(accuracies.mean() * 100))\n",
        "print(\"Standard Deviation: {:.2f} %\".format(accuracies.std() * 100))\n"
      ],
      "metadata": {
        "colab": {
          "base_uri": "https://localhost:8080/"
        },
        "id": "U3aVrMgJJEIo",
        "outputId": "6584f232-3a2e-4153-9a59-a835112f5c13"
      },
      "execution_count": 47,
      "outputs": [
        {
          "output_type": "stream",
          "name": "stdout",
          "text": [
            "Accuracy: 95.00 %\n",
            "Standard Deviation: 5.53 %\n"
          ]
        }
      ]
    },
    {
      "cell_type": "code",
      "source": [
        "import matplotlib.pyplot as plt\n",
        "from sklearn.model_selection import train_test_split\n",
        "from sklearn.preprocessing import StandardScaler\n",
        "from sklearn.datasets import load_iris\n",
        "from tensorflow.keras.models import Sequential\n",
        "from tensorflow.keras.layers import Dense\n",
        "from tensorflow.keras.optimizers import Adam\n",
        "\n",
        "# Load example dataset\n",
        "data = load_iris()\n",
        "X = data.data\n",
        "y = data.target\n",
        "\n",
        "# Split the data into training, validation, and test sets\n",
        "X_train, X_temp, y_train, y_temp = train_test_split(X, y, test_size=0.3, random_state=0)\n",
        "X_val, X_test, y_val, y_test = train_test_split(X_temp, y_temp, test_size=0.5, random_state=0)\n",
        "\n",
        "# Scale the data\n",
        "scaler = StandardScaler()\n",
        "X_train = scaler.fit_transform(X_train)\n",
        "X_val = scaler.transform(X_val)\n",
        "X_test = scaler.transform(X_test)\n",
        "\n",
        "# Build a simple neural network model\n",
        "model = Sequential([\n",
        "    Dense(64, activation='relu', input_shape=(X_train.shape[1],)),\n",
        "    Dense(64, activation='relu'),\n",
        "    Dense(3, activation='softmax')\n",
        "])"
      ],
      "metadata": {
        "id": "h4HUPNvhJPrt"
      },
      "execution_count": 48,
      "outputs": []
    },
    {
      "cell_type": "code",
      "source": [
        "model.compile(optimizer=Adam(), loss='sparse_categorical_crossentropy', metrics=['accuracy'])\n",
        "\n",
        "# Train the model and store the history\n",
        "history = model.fit(x=X_train,\n",
        "                    y=y_train,\n",
        "                    validation_data=(X_val, y_val),\n",
        "                    batch_size=32,\n",
        "                    epochs=50,\n",
        "                    verbose=1)\n"
      ],
      "metadata": {
        "colab": {
          "base_uri": "https://localhost:8080/"
        },
        "id": "mt51pXA3KEmW",
        "outputId": "6d7a49da-fe80-4013-e26e-75980226eab6"
      },
      "execution_count": 49,
      "outputs": [
        {
          "output_type": "stream",
          "name": "stdout",
          "text": [
            "Epoch 1/50\n",
            "4/4 [==============================] - 1s 64ms/step - loss: 1.1186 - accuracy: 0.2381 - val_loss: 1.0729 - val_accuracy: 0.4545\n",
            "Epoch 2/50\n",
            "4/4 [==============================] - 0s 20ms/step - loss: 1.0172 - accuracy: 0.5238 - val_loss: 0.9995 - val_accuracy: 0.6818\n",
            "Epoch 3/50\n",
            "4/4 [==============================] - 0s 13ms/step - loss: 0.9335 - accuracy: 0.7810 - val_loss: 0.9312 - val_accuracy: 0.8636\n",
            "Epoch 4/50\n",
            "4/4 [==============================] - 0s 13ms/step - loss: 0.8601 - accuracy: 0.8381 - val_loss: 0.8679 - val_accuracy: 0.8182\n",
            "Epoch 5/50\n",
            "4/4 [==============================] - 0s 12ms/step - loss: 0.7928 - accuracy: 0.8381 - val_loss: 0.8093 - val_accuracy: 0.8182\n",
            "Epoch 6/50\n",
            "4/4 [==============================] - 0s 15ms/step - loss: 0.7298 - accuracy: 0.8571 - val_loss: 0.7535 - val_accuracy: 0.8182\n",
            "Epoch 7/50\n",
            "4/4 [==============================] - 0s 14ms/step - loss: 0.6750 - accuracy: 0.8667 - val_loss: 0.7015 - val_accuracy: 0.8182\n",
            "Epoch 8/50\n",
            "4/4 [==============================] - 0s 15ms/step - loss: 0.6229 - accuracy: 0.8667 - val_loss: 0.6557 - val_accuracy: 0.8182\n",
            "Epoch 9/50\n",
            "4/4 [==============================] - 0s 19ms/step - loss: 0.5772 - accuracy: 0.8667 - val_loss: 0.6097 - val_accuracy: 0.8182\n",
            "Epoch 10/50\n",
            "4/4 [==============================] - 0s 15ms/step - loss: 0.5354 - accuracy: 0.8667 - val_loss: 0.5672 - val_accuracy: 0.8182\n",
            "Epoch 11/50\n",
            "4/4 [==============================] - 0s 21ms/step - loss: 0.4973 - accuracy: 0.8667 - val_loss: 0.5282 - val_accuracy: 0.8182\n",
            "Epoch 12/50\n",
            "4/4 [==============================] - 0s 21ms/step - loss: 0.4633 - accuracy: 0.8667 - val_loss: 0.4917 - val_accuracy: 0.8182\n",
            "Epoch 13/50\n",
            "4/4 [==============================] - 0s 21ms/step - loss: 0.4329 - accuracy: 0.8667 - val_loss: 0.4580 - val_accuracy: 0.8636\n",
            "Epoch 14/50\n",
            "4/4 [==============================] - 0s 15ms/step - loss: 0.4060 - accuracy: 0.8667 - val_loss: 0.4257 - val_accuracy: 0.8636\n",
            "Epoch 15/50\n",
            "4/4 [==============================] - 0s 14ms/step - loss: 0.3806 - accuracy: 0.8667 - val_loss: 0.3964 - val_accuracy: 0.8636\n",
            "Epoch 16/50\n",
            "4/4 [==============================] - 0s 27ms/step - loss: 0.3580 - accuracy: 0.8857 - val_loss: 0.3715 - val_accuracy: 0.8636\n",
            "Epoch 17/50\n",
            "4/4 [==============================] - 0s 25ms/step - loss: 0.3384 - accuracy: 0.8857 - val_loss: 0.3493 - val_accuracy: 0.8636\n",
            "Epoch 18/50\n",
            "4/4 [==============================] - 0s 33ms/step - loss: 0.3209 - accuracy: 0.8857 - val_loss: 0.3262 - val_accuracy: 0.8636\n",
            "Epoch 19/50\n",
            "4/4 [==============================] - 0s 27ms/step - loss: 0.3052 - accuracy: 0.8952 - val_loss: 0.3068 - val_accuracy: 0.8636\n",
            "Epoch 20/50\n",
            "4/4 [==============================] - 0s 24ms/step - loss: 0.2920 - accuracy: 0.8952 - val_loss: 0.2894 - val_accuracy: 0.8636\n",
            "Epoch 21/50\n",
            "4/4 [==============================] - 0s 26ms/step - loss: 0.2794 - accuracy: 0.8952 - val_loss: 0.2745 - val_accuracy: 0.8636\n",
            "Epoch 22/50\n",
            "4/4 [==============================] - 0s 27ms/step - loss: 0.2666 - accuracy: 0.9048 - val_loss: 0.2632 - val_accuracy: 0.8636\n",
            "Epoch 23/50\n",
            "4/4 [==============================] - 0s 27ms/step - loss: 0.2548 - accuracy: 0.9143 - val_loss: 0.2580 - val_accuracy: 0.8636\n",
            "Epoch 24/50\n",
            "4/4 [==============================] - 0s 21ms/step - loss: 0.2441 - accuracy: 0.9143 - val_loss: 0.2554 - val_accuracy: 0.8636\n",
            "Epoch 25/50\n",
            "4/4 [==============================] - 0s 24ms/step - loss: 0.2362 - accuracy: 0.9143 - val_loss: 0.2516 - val_accuracy: 0.8636\n",
            "Epoch 26/50\n",
            "4/4 [==============================] - 0s 20ms/step - loss: 0.2268 - accuracy: 0.9238 - val_loss: 0.2374 - val_accuracy: 0.8636\n",
            "Epoch 27/50\n",
            "4/4 [==============================] - 0s 26ms/step - loss: 0.2157 - accuracy: 0.9238 - val_loss: 0.2257 - val_accuracy: 0.8636\n",
            "Epoch 28/50\n",
            "4/4 [==============================] - 0s 24ms/step - loss: 0.2066 - accuracy: 0.9238 - val_loss: 0.2152 - val_accuracy: 0.9091\n",
            "Epoch 29/50\n",
            "4/4 [==============================] - 0s 18ms/step - loss: 0.1981 - accuracy: 0.9333 - val_loss: 0.2039 - val_accuracy: 0.9091\n",
            "Epoch 30/50\n",
            "4/4 [==============================] - 0s 27ms/step - loss: 0.1914 - accuracy: 0.9333 - val_loss: 0.1933 - val_accuracy: 0.9545\n",
            "Epoch 31/50\n",
            "4/4 [==============================] - 0s 25ms/step - loss: 0.1825 - accuracy: 0.9524 - val_loss: 0.1853 - val_accuracy: 0.9545\n",
            "Epoch 32/50\n",
            "4/4 [==============================] - 0s 24ms/step - loss: 0.1744 - accuracy: 0.9524 - val_loss: 0.1822 - val_accuracy: 0.9091\n",
            "Epoch 33/50\n",
            "4/4 [==============================] - 0s 22ms/step - loss: 0.1673 - accuracy: 0.9524 - val_loss: 0.1757 - val_accuracy: 0.9091\n",
            "Epoch 34/50\n",
            "4/4 [==============================] - 0s 25ms/step - loss: 0.1613 - accuracy: 0.9524 - val_loss: 0.1639 - val_accuracy: 0.9545\n",
            "Epoch 35/50\n",
            "4/4 [==============================] - 0s 25ms/step - loss: 0.1544 - accuracy: 0.9619 - val_loss: 0.1496 - val_accuracy: 0.9545\n",
            "Epoch 36/50\n",
            "4/4 [==============================] - 0s 25ms/step - loss: 0.1470 - accuracy: 0.9619 - val_loss: 0.1422 - val_accuracy: 0.9545\n",
            "Epoch 37/50\n",
            "4/4 [==============================] - 0s 22ms/step - loss: 0.1411 - accuracy: 0.9619 - val_loss: 0.1355 - val_accuracy: 0.9545\n",
            "Epoch 38/50\n",
            "4/4 [==============================] - 0s 18ms/step - loss: 0.1370 - accuracy: 0.9619 - val_loss: 0.1250 - val_accuracy: 0.9545\n",
            "Epoch 39/50\n",
            "4/4 [==============================] - 0s 23ms/step - loss: 0.1317 - accuracy: 0.9714 - val_loss: 0.1190 - val_accuracy: 0.9545\n",
            "Epoch 40/50\n",
            "4/4 [==============================] - 0s 22ms/step - loss: 0.1272 - accuracy: 0.9714 - val_loss: 0.1194 - val_accuracy: 0.9545\n",
            "Epoch 41/50\n",
            "4/4 [==============================] - 0s 25ms/step - loss: 0.1215 - accuracy: 0.9714 - val_loss: 0.1186 - val_accuracy: 0.9545\n",
            "Epoch 42/50\n",
            "4/4 [==============================] - 0s 27ms/step - loss: 0.1171 - accuracy: 0.9714 - val_loss: 0.1170 - val_accuracy: 0.9545\n",
            "Epoch 43/50\n",
            "4/4 [==============================] - 0s 19ms/step - loss: 0.1138 - accuracy: 0.9714 - val_loss: 0.1129 - val_accuracy: 0.9545\n",
            "Epoch 44/50\n",
            "4/4 [==============================] - 0s 26ms/step - loss: 0.1107 - accuracy: 0.9714 - val_loss: 0.1032 - val_accuracy: 0.9545\n",
            "Epoch 45/50\n",
            "4/4 [==============================] - 0s 25ms/step - loss: 0.1076 - accuracy: 0.9714 - val_loss: 0.0959 - val_accuracy: 1.0000\n",
            "Epoch 46/50\n",
            "4/4 [==============================] - 0s 25ms/step - loss: 0.1026 - accuracy: 0.9714 - val_loss: 0.0937 - val_accuracy: 1.0000\n",
            "Epoch 47/50\n",
            "4/4 [==============================] - 0s 21ms/step - loss: 0.1007 - accuracy: 0.9714 - val_loss: 0.0942 - val_accuracy: 1.0000\n",
            "Epoch 48/50\n",
            "4/4 [==============================] - 0s 25ms/step - loss: 0.0967 - accuracy: 0.9714 - val_loss: 0.0893 - val_accuracy: 1.0000\n",
            "Epoch 49/50\n",
            "4/4 [==============================] - 0s 25ms/step - loss: 0.0932 - accuracy: 0.9714 - val_loss: 0.0850 - val_accuracy: 1.0000\n",
            "Epoch 50/50\n",
            "4/4 [==============================] - 0s 20ms/step - loss: 0.0910 - accuracy: 0.9714 - val_loss: 0.0797 - val_accuracy: 1.0000\n"
          ]
        }
      ]
    },
    {
      "cell_type": "code",
      "source": [
        "import matplotlib.pyplot as plt\n",
        "\n",
        "def plot_training_history(history):\n",
        "\n",
        "    acc = history.history['accuracy']\n",
        "    val_acc = history.history['val_accuracy']\n",
        "    loss = history.history['loss']\n",
        "    val_loss = history.history['val_loss']\n",
        "\n",
        "    epochs = range(1, len(acc) + 1)\n",
        "\n",
        "    # Plot accuracy\n",
        "    plt.figure(figsize=(14, 5))\n",
        "    plt.subplot(1, 2, 1)\n",
        "    plt.plot(epochs, acc, 'bo', label='Training accuracy')\n",
        "    plt.plot(epochs, val_acc, 'b', label='Validation accuracy')\n",
        "    plt.title('Training and validation accuracy')\n",
        "    plt.xlabel('Epochs')\n",
        "    plt.ylabel('Accuracy')\n",
        "    plt.legend()\n",
        "\n",
        "    # Plot loss\n",
        "    plt.subplot(1, 2, 2)\n",
        "    plt.plot(epochs, loss, 'bo', label='Training loss')\n",
        "    plt.plot(epochs, val_loss, 'b', label='Validation loss')\n",
        "    plt.title('Training and validation loss')\n",
        "    plt.xlabel('Epochs')\n",
        "    plt.ylabel('Loss')\n",
        "    plt.legend()\n",
        "\n",
        "    plt.show()\n",
        "\n",
        "\n",
        "plot_training_history(history)\n"
      ],
      "metadata": {
        "colab": {
          "base_uri": "https://localhost:8080/",
          "height": 272
        },
        "id": "V3C5-GcjLUjf",
        "outputId": "cef9d56c-ee7e-412f-8982-899cfcbf1aa1"
      },
      "execution_count": 50,
      "outputs": [
        {
          "output_type": "display_data",
          "data": {
            "text/plain": [
              "<Figure size 1400x500 with 2 Axes>"
            ],
            "image/png": "[encoded data removed]"
          },
          "metadata": {}
        }
      ]
    },
    {
      "cell_type": "code",
      "source": [
        "\n",
        "from sklearn.linear_model import LogisticRegression\n",
        "from sklearn.metrics import accuracy_score, confusion_matrix, classification_report, roc_auc_score, roc_curve\n",
        "from sklearn.model_selection import train_test_split, cross_val_score\n",
        "\n",
        "np.random.seed(0)\n",
        "hr_data = pd.DataFrame({\n",
        "    'satisfaction_level': np.random.rand(1000),\n",
        "    'last_evaluation': np.random.rand(1000),\n",
        "    'number_project': np.random.randint(1, 5, size=1000),\n",
        "    'average_montly_hours': np.random.randint(90, 310, size=1000),\n",
        "    'time_spend_company': np.random.randint(1, 10, size=1000),\n",
        "    'Work_accident': np.random.randint(0, 2, size=1000),\n",
        "    'left': np.random.randint(0, 2, size=1000),\n",
        "    'promotion_last_5years': np.random.randint(0, 2, size=1000)\n",
        "})\n",
        "\n",
        "X = hr_data.drop('left', axis=1)\n",
        "y = hr_data['left']\n",
        "\n",
        "\n",
        "X_train, X_test, y_train, y_test = train_test_split(X, y, test_size=0.3, random_state=0)\n",
        "\n",
        "# Initialize and train logistic regression model\n",
        "classifier = LogisticRegression(max_iter=1000)\n",
        "classifier.fit(X_train, y_train)\n",
        "\n",
        "# Predict on the test set\n",
        "y_pred = classifier.predict(X_test)\n",
        "#print accuracy\n",
        "accuracies = cross_val_score(estimator=classifier, X=X_train, y=y_train, cv=10)\n",
        "print(\"Accuracy: {:.2f} %\".format(accuracies.mean() * 100))\n",
        "print(\"Standard Deviation: {:.2f} %\".format(accuracies.std() * 100))\n",
        "\n",
        "# Confusion Matrix\n",
        "conf_matrix = confusion_matrix(y_test, y_pred)\n",
        "print(\"Confusion Matrix:\\n\", conf_matrix)\n",
        "\n",
        "# Classification Report\n",
        "class_report = classification_report(y_test, y_pred)\n",
        "print(\"Classification Report:\\n\", class_report)\n",
        "\n",
        "# ROC-AUC\n",
        "y_pred_prob = classifier.predict_proba(X_test)[:, 1]\n",
        "roc_auc = roc_auc_score(y_test, y_pred_prob)\n",
        "print(\"ROC-AUC Score: {:.2f}\".format(roc_auc))\n",
        "\n",
        "# Plotting ROC Curve\n",
        "fpr, tpr, _ = roc_curve(y_test, y_pred_prob)\n",
        "plt.figure(figsize=(8, 6))\n",
        "plt.plot(fpr, tpr, color='blue', lw=2, label='ROC curve (area = %0.2f)' % roc_auc)\n",
        "plt.plot([0, 1], [0, 1], color='gray', lw=2, linestyle='--')\n",
        "plt.xlim([0.0, 1.0])\n",
        "plt.ylim([0.0, 1.05])\n",
        "plt.xlabel('False Positive Rate')\n",
        "plt.ylabel('True Positive Rate')\n",
        "plt.title('Receiver Operating Characteristic (ROC) Curve')\n",
        "plt.legend(loc=\"lower right\")\n",
        "plt.show()\n",
        "\n",
        "# Feature Importance\n",
        "feature_importance = pd.DataFrame({\n",
        "    'Feature': X.columns,\n",
        "    'Importance': np.abs(classifier.coef_[0])\n",
        "}).sort_values(by='Importance', ascending=False)\n",
        "print(\"Feature Importance:\\n\", feature_importance)\n"
      ],
      "metadata": {
        "colab": {
          "base_uri": "https://localhost:8080/",
          "height": 931
        },
        "id": "tCan-9yhPbsO",
        "outputId": "381455e5-0cc6-41c6-ecd5-b121be709570"
      },
      "execution_count": 51,
      "outputs": [
        {
          "output_type": "stream",
          "name": "stdout",
          "text": [
            "Accuracy: 53.00 %\n",
            "Standard Deviation: 4.93 %\n",
            "Confusion Matrix:\n",
            " [[ 30 116]\n",
            " [ 36 118]]\n",
            "Classification Report:\n",
            "               precision    recall  f1-score   support\n",
            "\n",
            "           0       0.45      0.21      0.28       146\n",
            "           1       0.50      0.77      0.61       154\n",
            "\n",
            "    accuracy                           0.49       300\n",
            "   macro avg       0.48      0.49      0.45       300\n",
            "weighted avg       0.48      0.49      0.45       300\n",
            "\n",
            "ROC-AUC Score: 0.50\n"
          ]
        },
        {
          "output_type": "display_data",
          "data": {
            "text/plain": [
              "<Figure size 800x600 with 1 Axes>"
            ],
            "image/png": "[encoded data removed]"
          },
          "metadata": {}
        },
        {
          "output_type": "stream",
          "name": "stdout",
          "text": [
            "Feature Importance:\n",
            "                  Feature  Importance\n",
            "5          Work_accident    0.165550\n",
            "6  promotion_last_5years    0.162982\n",
            "2         number_project    0.057827\n",
            "4     time_spend_company    0.014284\n",
            "1        last_evaluation    0.014250\n",
            "0     satisfaction_level    0.000889\n",
            "3   average_montly_hours    0.000128\n"
          ]
        }
      ]
    }
  ]
}